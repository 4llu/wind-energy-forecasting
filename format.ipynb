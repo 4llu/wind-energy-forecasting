{
 "metadata": {
  "language_info": {
   "codemirror_mode": {
    "name": "ipython",
    "version": 3
   },
   "file_extension": ".py",
   "mimetype": "text/x-python",
   "name": "python",
   "nbconvert_exporter": "python",
   "pygments_lexer": "ipython3",
   "version": "3.8.5-final"
  },
  "orig_nbformat": 2,
  "kernelspec": {
   "name": "python3",
   "display_name": "Python 3"
  }
 },
 "nbformat": 4,
 "nbformat_minor": 2,
 "cells": [
  {
   "cell_type": "code",
   "execution_count": 1,
   "metadata": {},
   "outputs": [],
   "source": [
    "import netCDF4 as nc"
   ]
  },
  {
   "cell_type": "code",
   "execution_count": 42,
   "metadata": {},
   "outputs": [],
   "source": [
    "fn = 'data/ecmwf/output_1'\n",
    "ds = nc.Dataset(fn)"
   ]
  },
  {
   "cell_type": "code",
   "execution_count": 43,
   "metadata": {},
   "outputs": [
    {
     "output_type": "stream",
     "name": "stdout",
     "text": [
      "<class 'netCDF4._netCDF4.Dataset'>\nroot group (NETCDF3_64BIT_OFFSET data model, file format NETCDF3):\n    Conventions: CF-1.6\n    history: 2020-11-12 18:10:20 GMT by grib_to_netcdf-2.19.0: grib_to_netcdf /data/scratch/20201112-1800/49/_mars-webmars-public-svc-green-004-6fe5cac1a363ec1525f54343b6cc9fd8-tW0_ij.grib -o /data/scratch/20201112-1810/0c/_grib2netcdf-webmars-public-svc-green-003-6fe5cac1a363ec1525f54343b6cc9fd8-8ndCJP.nc -utime\n    dimensions(sizes): longitude(37), latitude(34), time(124)\n    variables(dimensions): float32 longitude(longitude), float32 latitude(latitude), int32 time(time), int16 sp(time,latitude,longitude), int16 u10(time,latitude,longitude), int16 v10(time,latitude,longitude), int16 t2m(time,latitude,longitude)\n    groups: \n"
     ]
    }
   ],
   "source": [
    "print(ds)"
   ]
  },
  {
   "cell_type": "code",
   "execution_count": 44,
   "metadata": {},
   "outputs": [
    {
     "output_type": "stream",
     "name": "stdout",
     "text": [
      "<class 'netCDF4._netCDF4.Dimension'>: name = 'longitude', size = 37\n<class 'netCDF4._netCDF4.Dimension'>: name = 'latitude', size = 34\n<class 'netCDF4._netCDF4.Dimension'> (unlimited): name = 'time', size = 124\n"
     ]
    }
   ],
   "source": [
    "for dim in ds.dimensions.values():\n",
    "    print(dim)"
   ]
  },
  {
   "cell_type": "code",
   "execution_count": 45,
   "metadata": {},
   "outputs": [
    {
     "output_type": "stream",
     "name": "stdout",
     "text": [
      "<class 'netCDF4._netCDF4.Variable'>\nfloat32 longitude(longitude)\n    units: degrees_east\n    long_name: longitude\nunlimited dimensions: \ncurrent shape = (37,)\nfilling on, default _FillValue of 9.969209968386869e+36 used\n<class 'netCDF4._netCDF4.Variable'>\nfloat32 latitude(latitude)\n    units: degrees_north\n    long_name: latitude\nunlimited dimensions: \ncurrent shape = (34,)\nfilling on, default _FillValue of 9.969209968386869e+36 used\n<class 'netCDF4._netCDF4.Variable'>\nint32 time(time)\n    units: hours since 1900-01-01 00:00:00.0\n    long_name: time\n    calendar: gregorian\nunlimited dimensions: time\ncurrent shape = (124,)\nfilling on, default _FillValue of -2147483647 used\n<class 'netCDF4._netCDF4.Variable'>\nint16 sp(time, latitude, longitude)\n    scale_factor: 0.22596726076938337\n    add_offset: 96905.91826636961\n    _FillValue: -32767\n    missing_value: -32767\n    units: Pa\n    long_name: Surface pressure\n    standard_name: surface_air_pressure\nunlimited dimensions: time\ncurrent shape = (124, 34, 37)\nfilling on\n<class 'netCDF4._netCDF4.Variable'>\nint16 u10(time, latitude, longitude)\n    scale_factor: 0.0004883525285436614\n    add_offset: 2.4440784097952983\n    _FillValue: -32767\n    missing_value: -32767\n    units: m s**-1\n    long_name: 10 metre U wind component\nunlimited dimensions: time\ncurrent shape = (124, 34, 37)\nfilling on\n<class 'netCDF4._netCDF4.Variable'>\nint16 v10(time, latitude, longitude)\n    scale_factor: 0.0004889996818381936\n    add_offset: 3.290189383826073\n    _FillValue: -32767\n    missing_value: -32767\n    units: m s**-1\n    long_name: 10 metre V wind component\nunlimited dimensions: time\ncurrent shape = (124, 34, 37)\nfilling on\n<class 'netCDF4._netCDF4.Variable'>\nint16 t2m(time, latitude, longitude)\n    scale_factor: 0.0006615035368333034\n    add_offset: 257.9243671242081\n    _FillValue: -32767\n    missing_value: -32767\n    units: K\n    long_name: 2 metre temperature\nunlimited dimensions: time\ncurrent shape = (124, 34, 37)\nfilling on\n"
     ]
    }
   ],
   "source": [
    "for var in ds.variables.values():\n",
    "    print(var)"
   ]
  },
  {
   "cell_type": "code",
   "execution_count": 47,
   "metadata": {},
   "outputs": [
    {
     "output_type": "execute_result",
     "data": {
      "text/plain": [
       "69.89"
      ]
     },
     "metadata": {},
     "execution_count": 47
    }
   ],
   "source": [
    "ds[\"latitude\"][:][0]"
   ]
  },
  {
   "cell_type": "code",
   "execution_count": 41,
   "metadata": {},
   "outputs": [],
   "source": [
    "regions = [\n",
    "    [19.0, 21.2, 60.6, 59.5], # Ahvenanmaa\n",
    "    [21.2, 23.5, 61.0, 59.5], # Varsinais-Suomi\n",
    "    [23.5, 26.2, 60.7, 59.5], # Uusimaa\n",
    "    [26.2, 27.2, 61.3, 59.0], # Kymenlaakso\n",
    "    [27.2, 30.0, 61.7, 59.0], # Etelä-Karjala\n",
    "    [20.0, 22.7, 61.3, 60.0], # Satakunta\n",
    "    [23.5, 25.0, 61.2, 60.7], # Kanta-Häme\n",
    "    [25.0, 26.2, 61.6, 60.7], # Päijät-Häme\n",
    "    [22.7, 25.0, 62.4, 61.0], # Pirkanmaa\n",
    "    [26.2, 29.0, 62.4, 61.3], # Etelä-Savo\n",
    "    [24.5, 26.5, 63.5, 61.6], # Keskisuomi\n",
    "    [20.0, 24.5, 64.0, 61.0], # Etelä + keski + pohjanmaa\n",
    "    [28.4, 32.0, 63.9, 61.7], # Pohjois-Karjala\n",
    "    [26.5, 28.4, 64.0, 62.4], # Pohjois-Savo\n",
    "    [27.2, 30.5, 65.3, 63.9], # Kainuu\n",
    "    [23.4, 30.0, 66.0, 63.5], # Pohjois-Pohjanmaa\n",
    "    [22.7, 30.5, 69.5, 66.0]  # Lappi\n",
    "]"
   ]
  }
 ]
}